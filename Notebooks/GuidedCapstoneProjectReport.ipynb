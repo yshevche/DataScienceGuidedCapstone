{
 "cells": [
  {
   "cell_type": "markdown",
   "id": "49cd109a-20ad-4985-9a81-cb1020fbe6ea",
   "metadata": {},
   "source": [
    "## Guided Capstone Project Report"
   ]
  },
  {
   "cell_type": "markdown",
   "id": "03a2de13-6dce-4ca6-9c14-12bafb1b4292",
   "metadata": {},
   "source": [
    "Big Mountain Resort came to us looking for a pricing model because they suspect they are not maximizing returns relative to the resort's position in the market. The resort is also not aware of which facilities matter most to visitors. The aim of this project is to build a predictive model for ticket prices based on the facilities provided by other resorts in order to guide Big Mountain`s pricing and future facility investment plans. Two models were established but through cross validation random forest regression was the winner. Using all available data we looked at what facilities are the most supportive for improving business outcomes. Currently the ticket prices for Big Mountain Resort is $81 but the modeled price is $95.87, leaving room for an increase. The modeling scenario used was that 350,000 people are expected to visit this season and on average visitors bought a five day pass. "
   ]
  },
  {
   "cell_type": "markdown",
   "id": "00ca5b99-9432-4576-bc58-4acbbacde89d",
   "metadata": {},
   "source": [
    "![title](../images/Capstone1.png)"
   ]
  },
  {
   "cell_type": "markdown",
   "id": "9a3b743d-b814-4bfb-a82e-52321964d4d0",
   "metadata": {},
   "source": [
    "One of the options for the resort is to close down up to 10 of the least used runs. In the figure above we compare ticket price with revenue lost if we were to scale down the least used runs. According to the modeled plots we can remove up to 5 of the least used runs without jeopardizing a large difference in ticket price and revenue, it would be important to also understand this would lead to a reduction in operating expenses which we have no information on in this report. Another scenario that the business has considered: adding a run with the vertical drop being 150 feet lower down and installing an additional chair lift to bring skiers back up. By running these changes through the model, ticket price increased by $8.61 and would lead to a $1.5 billion profit for that season. Even though the chair lift installation will be an expense, the fact that individuals do buy 5 day passes would counter the initial installation charge with the support of the ticket price increase. "
   ]
  }
 ],
 "metadata": {
  "kernelspec": {
   "display_name": "Python 3",
   "language": "python",
   "name": "python3"
  },
  "language_info": {
   "codemirror_mode": {
    "name": "ipython",
    "version": 3
   },
   "file_extension": ".py",
   "mimetype": "text/x-python",
   "name": "python",
   "nbconvert_exporter": "python",
   "pygments_lexer": "ipython3",
   "version": "3.8.8"
  }
 },
 "nbformat": 4,
 "nbformat_minor": 5
}
